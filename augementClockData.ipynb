{
 "cells": [
  {
   "cell_type": "code",
   "execution_count": 16,
   "id": "c582d8f2-abd6-4a81-89f5-e6f91555ec3d",
   "metadata": {},
   "outputs": [
    {
     "name": "stdout",
     "output_type": "stream",
     "text": [
      "Found 13 images belonging to 1 classes.\n",
      "Augmentation completed for 0_no_clock\n",
      "Found 20 images belonging to 1 classes.\n",
      "Augmentation completed for 1_severe_vis\n",
      "Found 53 images belonging to 1 classes.\n",
      "Augmentation completed for 2_mod_vis_xhands\n",
      "Found 352 images belonging to 1 classes.\n",
      "Augmentation completed for 3_hands_vis_errors\n",
      "Found 1047 images belonging to 1 classes.\n",
      "Augmentation completed for 4_minor_VIS_errors\n",
      "Found 1624 images belonging to 1 classes.\n",
      "Augmentation completed for 5_perfect_clock\n",
      "Data augmentation completed.\n"
     ]
    }
   ],
   "source": [
    "import os\n",
    "import tensorflow as tf\n",
    "from tensorflow.keras.preprocessing.image import ImageDataGenerator\n",
    "\n",
    "# Set the path to your dataset\n",
    "data_dir = 'clock_shulman'\n",
    "\n",
    "# Define image augmentation parameters\n",
    "datagen = ImageDataGenerator(\n",
    "    rotation_range=30,       # Rotate images up to 30 degrees\n",
    "    width_shift_range=0.1,   # Shift the width up to 10% of the total width\n",
    "    height_shift_range=0.1,  # Shift the height up to 10% of the total height\n",
    "    shear_range=0.2,         # Shear intensity\n",
    "    zoom_range=0.2,          # Zoom in/out by 20%\n",
    "    horizontal_flip=True,    # Randomly flip images horizontally\n",
    "    fill_mode='nearest'      # Fill in missing pixels after transformations\n",
    ")\n",
    "\n",
    "# Apply the augmentation to each category\n",
    "for category in ['0_no_clock', '1_severe_vis', '2_mod_vis_xhands', '3_hands_vis_errors', '4_minor_VIS_errors', '5_perfect_clock']:\n",
    "    img_path = os.path.join(data_dir, category)\n",
    "    save_path = os.path.join(data_dir, category + '_augmented')\n",
    "    \n",
    "    if not os.path.exists(save_path):\n",
    "        os.makedirs(save_path)\n",
    "    \n",
    "    # Create a generator for the current category directory\n",
    "    img_generator = datagen.flow_from_directory(\n",
    "        directory=data_dir,   # Parent directory containing all categories\n",
    "        classes=[category],   # Process only the specific category\n",
    "        target_size=(224, 224),  # Adjust size as needed\n",
    "        batch_size=32,\n",
    "        class_mode=None,  # No labels needed for augmentation\n",
    "        save_to_dir=save_path,\n",
    "        save_prefix='aug',\n",
    "        save_format='png'\n",
    "    )\n",
    "    \n",
    "    # Generate and save augmented images\n",
    "    num_augmented_images = 1000\n",
    "    for i in range(num_augmented_images // 32):  # 32 is the batch size\n",
    "        img_generator.__next__()  # Corrected method to advance the generator\n",
    "    \n",
    "    print(f\"Augmentation completed for {category}\")\n",
    "\n",
    "print(\"Data augmentation completed.\")"
   ]
  },
  {
   "cell_type": "code",
   "execution_count": null,
   "id": "613cd873-56c0-4871-bc32-ac93f45b55ec",
   "metadata": {},
   "outputs": [],
   "source": []
  }
 ],
 "metadata": {
  "kernelspec": {
   "display_name": "Python 3 (ipykernel)",
   "language": "python",
   "name": "python3"
  },
  "language_info": {
   "codemirror_mode": {
    "name": "ipython",
    "version": 3
   },
   "file_extension": ".py",
   "mimetype": "text/x-python",
   "name": "python",
   "nbconvert_exporter": "python",
   "pygments_lexer": "ipython3",
   "version": "3.9.19"
  }
 },
 "nbformat": 4,
 "nbformat_minor": 5
}
